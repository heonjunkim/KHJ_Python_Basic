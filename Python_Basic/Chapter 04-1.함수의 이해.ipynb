{
 "cells": [
  {
   "cell_type": "markdown",
   "metadata": {},
   "source": [
    "### 학습목표\n",
    "1. 함수의 이해\n",
    "2. 함수 구현 및 사용 숙지"
   ]
  },
  {
   "cell_type": "markdown",
   "metadata": {},
   "source": [
    "### 함수?\n",
    "\n",
    "* 지금까지 무심코 코드에서 사용된 많은 함수들이 존재합니다.\n",
    "* 예를 들면, sum, len, range 같은 함수등이 있죠.\n",
    "* 함수란 우리가 알고있는 개념처럼 주어진 입력(input)에 대해서 의도된 출력(print)을 전달하는 역할을 합니다.\n",
    "\n",
    "* 그렇다면 하나씩 살펴보겠습니다.\n",
    " > range 함수는 정수를 입력으로 전달하면[0, 정수] 로 이루어진 리스트를 생성하는 역할을 합니다.\n",
    " \n",
    " > sum 함수는 리스트, 튜플등을 입력으로 전달하면 전체 아이템의 합을 출력으로 전달하는 역할을 합니다.\n",
    " \n",
    " >len 함수는 리스트, 튜플등을 입력으로 전달하면 아이템의 개수를 출력으로 전달하는 역할을 합니다.\n",
    " \n",
    "* 그리고, 위의 함수들은 모두 python내부에 이미 정의(구현)이 되어있습니다.\n",
    "* 위와 같은 함수를 내장함수(built-in-function)이라고 합니다."
   ]
  },
  {
   "cell_type": "code",
   "execution_count": 1,
   "metadata": {},
   "outputs": [
    {
     "name": "stdout",
     "output_type": "stream",
     "text": [
      "4\n",
      "10\n"
     ]
    }
   ],
   "source": [
    "# 내장 함수의 예\n",
    "a = [1, 2, 3, 4]\n",
    "length = len(a)\n",
    "print(length)\n",
    "\n",
    "summation = sum(a)\n",
    "print(summation)"
   ]
  },
  {
   "cell_type": "markdown",
   "metadata": {},
   "source": [
    "#### **함수의 정의**\n",
    "+ 정의 시 최초에 def 키워드 사용\n",
    "+ argument 정의( 함수에 입력으로 전달하는 값을 의미, argument 또는 parameter라고 함)\n",
    "+ :(콜론) > 함수 역시 코드 블록이기 때문에 콜론(:) 필요\n",
    "+ body(함수의 구현 부분, 함수 역시 코드블록이기 때문에 들여쓰기 된 부분까지 함수의 코드블록으로 인지 함)\n",
    "    - 함수를 호출한 코드(caller)로 함수가 해당 기능을 수행하고 완료된 값(output)을 전달하기 위해 return 키워드 사용\n",
    "    - 즉, return 이후에 오는 값을 caller로 전달\\\n",
    " + 반환값 없을때 return만 단독으로 사용하면 메서드 종료하라는 뜻\n",
    " + 함수의 네이밍 역시 중요\n",
    "     - 즉 어떤 기능을 하는 함수인지 이름으로 최대한 나타날수 있게 해야함\n",
    "     - e.g) get_a (x) get_student_name(o)"
   ]
  },
  {
   "cell_type": "code",
   "execution_count": 2,
   "metadata": {},
   "outputs": [],
   "source": [
    "def add(x, y):\n",
    "    n = x + y    # 메서드( 호출해서 사용해야함)\n",
    "    return n \n",
    "    "
   ]
  },
  {
   "cell_type": "code",
   "execution_count": 3,
   "metadata": {},
   "outputs": [
    {
     "name": "stdout",
     "output_type": "stream",
     "text": [
      "330\n"
     ]
    }
   ],
   "source": [
    "c =add(30,300) # 메서드 호출문 > 메서드실행(return값) > 변수  # 호출받아서 위로보내고 리턴해온값을 전달 받음\n",
    "print(c)                              "
   ]
  },
  {
   "cell_type": "markdown",
   "metadata": {},
   "source": [
    "- JAVA와는 달리 메서드 오버로딩이 되지않음\n",
    "- error는 발생되지 않지만 호출해서 사용하면 호출된 함수와 동일한 함수만 사용가능"
   ]
  },
  {
   "cell_type": "code",
   "execution_count": 4,
   "metadata": {},
   "outputs": [
    {
     "ename": "TypeError",
     "evalue": "TestClass() takes no arguments",
     "output_type": "error",
     "traceback": [
      "\u001b[1;31m---------------------------------------------------------------------------\u001b[0m",
      "\u001b[1;31mTypeError\u001b[0m                                 Traceback (most recent call last)",
      "\u001b[1;32m<ipython-input-4-63be3f212e71>\u001b[0m in \u001b[0;36m<module>\u001b[1;34m\u001b[0m\n\u001b[0;32m      9\u001b[0m         \u001b[0mprint\u001b[0m\u001b[1;33m(\u001b[0m\u001b[1;34m'메서드 오버로딩.'\u001b[0m\u001b[1;33m,\u001b[0m \u001b[0mnick\u001b[0m\u001b[1;33m,\u001b[0m \u001b[0mcode\u001b[0m\u001b[1;33m)\u001b[0m\u001b[1;33m\u001b[0m\u001b[1;33m\u001b[0m\u001b[0m\n\u001b[0;32m     10\u001b[0m \u001b[1;33m\u001b[0m\u001b[0m\n\u001b[1;32m---> 11\u001b[1;33m \u001b[0mt1\u001b[0m \u001b[1;33m=\u001b[0m \u001b[0mTestClass\u001b[0m\u001b[1;33m(\u001b[0m\u001b[1;34m'초롱'\u001b[0m\u001b[1;33m)\u001b[0m\u001b[1;33m\u001b[0m\u001b[1;33m\u001b[0m\u001b[0m\n\u001b[0m\u001b[0;32m     12\u001b[0m \u001b[1;31m# t2 = TestClass() # error발생(name값을 매개변수로 보내라는 Error발생)\u001b[0m\u001b[1;33m\u001b[0m\u001b[1;33m\u001b[0m\u001b[1;33m\u001b[0m\u001b[0m\n\u001b[0;32m     13\u001b[0m \u001b[0mt1\u001b[0m\u001b[1;33m.\u001b[0m\u001b[0msetData\u001b[0m\u001b[1;33m(\u001b[0m\u001b[1;34m'민꽁'\u001b[0m\u001b[1;33m)\u001b[0m\u001b[1;33m\u001b[0m\u001b[1;33m\u001b[0m\u001b[0m\n",
      "\u001b[1;31mTypeError\u001b[0m: TestClass() takes no arguments"
     ]
    }
   ],
   "source": [
    "class TestClass():\n",
    "    def _init_(self):\n",
    "        print('기본 생성자입니다.')\n",
    "    def _init_(self, name):    \n",
    "        print('생성자 오버로딩.', nick)\n",
    "    def setData(self, nick)    :\n",
    "        print('메서드 오버로딩', nick)\n",
    "    def setData(self, nick, code):        \n",
    "        print('메서드 오버로딩.', nick, code)\n",
    "        \n",
    "t1 = TestClass('초롱')        \n",
    "# t2 = TestClass() # error발생(name값을 매개변수로 보내라는 Error발생)\n",
    "t1.setData('민꽁')\n",
    "t1.setData('초롱',5)\n",
    "t1.setData('체리',3)\n",
    "            \n",
    "        "
   ]
  },
  {
   "cell_type": "markdown",
   "metadata": {},
   "source": [
    "#### **함수의 사용(호출)**\n",
    "+ 함수명(파라미터1, 파라미터2...... 파라미터n)\n",
    "+ 위와 같이 정의 된 함수의 이름과 전달되는 parameter(인자)를 괄호안에 전달하여 함수를 호출\n",
    "+ 함수가 호출되면 실행의 흐름이 호출자(caller)에서 함수(callee)로 변경 됨\n",
    "\n",
    "+ 함수의 입력(인풋) 파라미터(parameter), 아규먼트(argument)라고도 함"
   ]
  },
  {
   "cell_type": "code",
   "execution_count": 5,
   "metadata": {},
   "outputs": [
    {
     "name": "stdout",
     "output_type": "stream",
     "text": [
      "70\n"
     ]
    }
   ],
   "source": [
    "c = add(30, 40)\n",
    "print(c)"
   ]
  },
  {
   "cell_type": "markdown",
   "metadata": {},
   "source": [
    "#### **함수 네이밍(naming)**\n",
    "* 함수 이름으로부터 기능이 명시\n",
    "* 의미와 반대되거나 맞지 않는 이름은 사용금지"
   ]
  },
  {
   "cell_type": "code",
   "execution_count": 6,
   "metadata": {},
   "outputs": [
    {
     "name": "stdout",
     "output_type": "stream",
     "text": [
      "1\n"
     ]
    }
   ],
   "source": [
    "def substract(x , y):\n",
    "    sub = x -y\n",
    "    return sub\n",
    "print(substract(4,3))"
   ]
  },
  {
   "cell_type": "markdown",
   "metadata": {},
   "source": [
    "#### **parameter(argument)(인자)**\n",
    "+ 함수에 전달되는 입력(input)\n",
    "+ 입력이 필요하지 않을 수도, 1개의 입력만 있을 수도, 여러개의 입력이 존재할 수도 있음\n",
    "+ 파라미터로 int, String, float, bool, list, dict 등등 어떤 파이썬 객체도 전달 가능\n",
    "+ 심지어 함수도 함수의 파라미터로 전달 가능\n",
    "\n",
    "+ python의 경우, 타입 명시가 없기 때문에, 함수 생성시, 의도된 파라미터의 타입에 맞게 입력을 전달하는 것이 중요\n",
    "+ 또한 파라미터를 전달 할 때, 정의된 순서에 따라 값을 전달하는 것이 중요"
   ]
  },
  {
   "cell_type": "code",
   "execution_count": 8,
   "metadata": {},
   "outputs": [
    {
     "name": "stdout",
     "output_type": "stream",
     "text": [
      "30\n"
     ]
    }
   ],
   "source": [
    "def substarct(x, y):\n",
    "    sub = x -y\n",
    "    return sub\n",
    "x = 100\n",
    "y = 70\n",
    "a = substract(x , y)\n",
    "print(a)\n"
   ]
  },
  {
   "cell_type": "markdown",
   "metadata": {},
   "source": [
    "#### Default parameter(기본 인자)\n",
    "+ 함수의 파라미터에 기본값 지정 가능\n",
    "+ 간혹 함수의 첫번째 매개변수로 self를 받는 경우가 있는데, Class내에 정의 된 함수는 반드시 self를 첫 매개변수로 받아야함\n",
    "+ 파라미터를 명시하지 않을 경우, 지정된 기본값으로 대체\n",
    "+ 모두 기본값이 정해진 상태에서는 함수호출시 매개변수에 해당변수의 값을 넣을 수 있음\n",
    "```python\n",
    "    def add(x=0, y=0, z=0) # 가능\n",
    "        a = x+y+z\n",
    "        return a\n",
    "   add(y=10)```\n",
    "+ 디폴트 인자는 매개변수 순서가 앞에서부터 사용 가능, 가운데나 끝은 불가능!\n",
    "```python\n",
    "    def add(x=0, y, z=0) # error 발생\n",
    "        a = x+y+z  # 끝쪽으로 몰아야한다\n",
    "        return a\n",
    "   add(y =10)```"
   ]
  },
  {
   "cell_type": "code",
   "execution_count": 9,
   "metadata": {},
   "outputs": [
    {
     "data": {
      "text/plain": [
       "25"
      ]
     },
     "execution_count": 9,
     "metadata": {},
     "output_type": "execute_result"
    }
   ],
   "source": [
    "def add(x=5, y=5, z=10):\n",
    "    a = x + y + z\n",
    "    return a\n",
    "\n",
    "add(y =10)"
   ]
  },
  {
   "cell_type": "markdown",
   "metadata": {},
   "source": [
    "#### Default parameter 사용시 주의점\n",
    " * 디폴트 파라미터 뒤에 일반 파라미터가 위치할 수 있음\n",
    " \n",
    " * e.g) 올바른 예\n",
    "     > def test(a, b, c =1)\n",
    "     \n",
    "     > def test(a, b=1, c =2)\n",
    "     \n",
    "     > def test(a=1, b=1, c =3)\n",
    "     \n",
    "  * e.g) 올바르지 않은 예\n",
    "      >def test(a,b= 1,c)\n",
    "      \n",
    "      >def test(a =1 , b ,c)\n",
    "      \n",
    "      >def test(a=1 ,b= 1, c)"
   ]
  },
  {
   "cell_type": "markdown",
   "metadata": {},
   "source": [
    "* **기본 파라미터의 다른 예**\n",
    "- print 함수\n",
    "    - sep, and, file등 여러 기본 파라미터를 가짐"
   ]
  },
  {
   "cell_type": "code",
   "execution_count": 10,
   "metadata": {},
   "outputs": [
    {
     "name": "stdout",
     "output_type": "stream",
     "text": [
      "1!2!3%%%2p3p4\n"
     ]
    }
   ],
   "source": [
    "print(1, 2, 3, sep ='!', end='%%%')\n",
    "print(2, 3, 4, sep= 'p')"
   ]
  },
  {
   "cell_type": "code",
   "execution_count": 13,
   "metadata": {},
   "outputs": [
    {
     "ename": "SyntaxError",
     "evalue": "non-default argument follows default argument (<ipython-input-13-a18cd74ca134>, line 1)",
     "output_type": "error",
     "traceback": [
      "\u001b[1;36m  File \u001b[1;32m\"<ipython-input-13-a18cd74ca134>\"\u001b[1;36m, line \u001b[1;32m1\u001b[0m\n\u001b[1;33m    def test(a, b =3, c):\u001b[0m\n\u001b[1;37m            ^\u001b[0m\n\u001b[1;31mSyntaxError\u001b[0m\u001b[1;31m:\u001b[0m non-default argument follows default argument\n"
     ]
    }
   ],
   "source": [
    "def test(a, b =3, c):\n",
    "    print(a,b,c)\n",
    "    \n",
    "test(10, 20, 1)    "
   ]
  },
  {
   "cell_type": "markdown",
   "metadata": {},
   "source": [
    "#### **keyword parameter(키워드 파라미터)**\n",
    "* 파이썬의 경우, 파라미터에 값을 전달 할 때, 파라미터의 이름을 명시하여 전달 가능\n",
    "* 파라미터 이름을 사용하지 않을 경우, 기본적으로 순서에 맞게 전달"
   ]
  },
  {
   "cell_type": "code",
   "execution_count": 14,
   "metadata": {},
   "outputs": [
    {
     "data": {
      "text/plain": [
       "63"
      ]
     },
     "execution_count": 14,
     "metadata": {},
     "output_type": "execute_result"
    }
   ],
   "source": [
    "def test(x, y, z):\n",
    "    a = x + y + z\n",
    "    return a\n",
    "\n",
    "test(x = 10, y =50, z= 3)"
   ]
  },
  {
   "cell_type": "markdown",
   "metadata": {},
   "source": [
    "#### **return(리턴)**\n",
    "+ 기본적으로 함수의 종료를 명시\n",
    "    + return 옆에 값이나 수식이 있다면 해당 값을 호출자(caller)에게 반환(전달)\n",
    "    + return만 존재하면 None 반환\n",
    "    + return이 없는 경우, 기본적으로 함수코드 블록이 종료되면 종료로 간주, 이때도 None반환\n",
    "    + return문 다음에 오는 코드는 실행이 안됨(Error 발생은 안하고 실행만 안됨)"
   ]
  },
  {
   "cell_type": "code",
   "execution_count": 15,
   "metadata": {},
   "outputs": [
    {
     "ename": "NameError",
     "evalue": "name 'weird' is not defined",
     "output_type": "error",
     "traceback": [
      "\u001b[1;31m---------------------------------------------------------------------------\u001b[0m",
      "\u001b[1;31mNameError\u001b[0m                                 Traceback (most recent call last)",
      "\u001b[1;32m<ipython-input-15-68fa5e651abe>\u001b[0m in \u001b[0;36m<module>\u001b[1;34m\u001b[0m\n\u001b[0;32m      5\u001b[0m     \u001b[0mprint\u001b[0m\u001b[1;33m(\u001b[0m\u001b[0mx\u001b[0m \u001b[1;33m+\u001b[0m \u001b[0my\u001b[0m\u001b[1;33m)\u001b[0m\u001b[1;33m\u001b[0m\u001b[1;33m\u001b[0m\u001b[0m\n\u001b[0;32m      6\u001b[0m     \u001b[1;32mreturn\u001b[0m\u001b[1;33m(\u001b[0m\u001b[0mx\u001b[0m \u001b[1;33m+\u001b[0m \u001b[1;36m2\u001b[0m\u001b[1;33m)\u001b[0m \u001b[1;33m*\u001b[0m\u001b[0my\u001b[0m\u001b[1;33m\u001b[0m\u001b[1;33m\u001b[0m\u001b[0m\n\u001b[1;32m----> 7\u001b[1;33m \u001b[0mc\u001b[0m\u001b[1;33m=\u001b[0m \u001b[0mweird\u001b[0m\u001b[1;33m.\u001b[0m\u001b[0mmultiply\u001b[0m\u001b[1;33m\u001b[0m\u001b[1;33m\u001b[0m\u001b[0m\n\u001b[0m\u001b[0;32m      8\u001b[0m \u001b[1;33m\u001b[0m\u001b[0m\n",
      "\u001b[1;31mNameError\u001b[0m: name 'weird' is not defined"
     ]
    }
   ],
   "source": [
    "def weird_multiply(x, y):\n",
    "    if x> 10:\n",
    "        return x * y\n",
    "    \n",
    "    print(x + y)\n",
    "    return(x + 2) *y\n",
    "c= weird.multiply\n",
    "    "
   ]
  },
  {
   "cell_type": "markdown",
   "metadata": {},
   "source": [
    "#### **multiple return(복수값 반환)**\n",
    "+ tuple반환을 하여 복수개의 값 리턴 가능"
   ]
  },
  {
   "cell_type": "code",
   "execution_count": 16,
   "metadata": {},
   "outputs": [
    {
     "name": "stdout",
     "output_type": "stream",
     "text": [
      "23 60\n",
      "(23, 60)\n"
     ]
    }
   ],
   "source": [
    "def add_mul(x, y):\n",
    "    s = x + y\n",
    "    m = x * y\n",
    "    \n",
    "    return s,m\n",
    "a,b = add_mul(20,3)\n",
    "c= add_mul(20, 3)\n",
    "print(a, b) # tuple을 unpacking 하여 각각 값을 따로따로 받음\n",
    "print(c) #  tuple로 값을 받음"
   ]
  },
  {
   "cell_type": "markdown",
   "metadata": {},
   "source": [
    "#### **variable scope (변수의 범위)**\n",
    "+ 변수가 참조 가능한 코드상의 범위를 명시\n",
    "+ 함수내의 변수는 자신이 속한 코드 블로이 종료되면 소멸됨\n",
    "+ 이렇게 특정코드 블록에서 선언된 변수를 **지역변수(local variable)** 이라고 함\n",
    "+ 반대로 가장 상단에서 정의되어 프로그램 종료 전까지 유지되는 변수를 **전역변수(global variable)** 이라고 함\n",
    "+ 같은 이름의 지역변수와 전역변수가 존재할 경우, 지역변수의 우선수위가 더높음"
   ]
  },
  {
   "cell_type": "code",
   "execution_count": null,
   "metadata": {},
   "outputs": [],
   "source": [
    "print(num1, num2)"
   ]
  },
  {
   "cell_type": "code",
   "execution_count": 19,
   "metadata": {},
   "outputs": [
    {
     "name": "stdout",
     "output_type": "stream",
     "text": [
      "30 40\n",
      "10 30\n"
     ]
    }
   ],
   "source": [
    "num1 = 10      # num이 전역변수\n",
    "num2 = 30     # 속해지있지 않은 걸 젼역변수\n",
    "\n",
    "def test(num1, num2):    # 블록문 내에 있는변수를 지역변수\n",
    "    print(num1, num2)\n",
    "    return num1 + num2\n",
    "\n",
    "test(30, 40)\n",
    "print(num1, num2)\n",
    "\n"
   ]
  },
  {
   "cell_type": "markdown",
   "metadata": {},
   "source": [
    "#### **함수 안에서 함수 밖의 전역변수를 변경하는 방법**\n"
   ]
  },
  {
   "cell_type": "code",
   "execution_count": 20,
   "metadata": {},
   "outputs": [
    {
     "name": "stdout",
     "output_type": "stream",
     "text": [
      "1\n",
      "4\n"
     ]
    }
   ],
   "source": [
    "# 1. return을 사용하는 방법\n",
    "a = 1 #전역변수\n",
    "print(a)\n",
    "def vartest(a):  \n",
    "    a = a+1   # 지역변수\n",
    "    return a  # 선언\n",
    "\n",
    "a= vartest(3)\n",
    "print(a)"
   ]
  },
  {
   "cell_type": "code",
   "execution_count": 22,
   "metadata": {},
   "outputs": [
    {
     "name": "stdout",
     "output_type": "stream",
     "text": [
      "1\n",
      "2\n"
     ]
    }
   ],
   "source": [
    "# 2. global을 사용하는 방법\n",
    "a = 1\n",
    "print(a)\n",
    "def vartest():\n",
    "    global a\n",
    "    a = a + 1\n",
    "vartest()    \n",
    "print(a)"
   ]
  },
  {
   "cell_type": "markdown",
   "metadata": {},
   "source": [
    "#### **variable length argument(가변길이 인자)**\n",
    "- 전달되는 파라미터의 개수가 고정적이지 않은 경우 사용\n",
    "- e.g)\n",
    "    - print 함수\n",
    "    - format 함수\n",
    "    \n",
    "> ***args**,   ****kwargs**\n",
    "\n",
    "> ***args**      :      파라미터 튜퓰의 형태로 전달\n",
    "\n",
    "> ****kwargs**  :     파라미터를 딕셔너리 형태로 전달(네임드 파라미터)\n"
   ]
  },
  {
   "cell_type": "code",
   "execution_count": 24,
   "metadata": {},
   "outputs": [
    {
     "name": "stdout",
     "output_type": "stream",
     "text": [
      "10\n",
      "30\n",
      "40\n",
      "50\n",
      "60\n",
      "70\n"
     ]
    }
   ],
   "source": [
    "def test(*args): #arguments\n",
    "    for item in args:\n",
    "        print(item)\n",
    "        \n",
    "test(10, 30, 40, 50, 60, 70)        "
   ]
  },
  {
   "cell_type": "markdown",
   "metadata": {},
   "source": [
    "#### **Keyword parameter(키워드 파라미터)**\n",
    "- \\**가 붙은 경우에는 키워드 파라미터로 인식\n",
    "- 즉 함수 호출시, 파라미터의 이름과 값을 함께 전달 가능"
   ]
  },
  {
   "cell_type": "code",
   "execution_count": 34,
   "metadata": {},
   "outputs": [
    {
     "name": "stdout",
     "output_type": "stream",
     "text": [
      "key a value 1\n",
      "key b value 2\n",
      "key c value 3\n"
     ]
    }
   ],
   "source": [
    "def test2(**kwargs): #key word arguments\n",
    "    for key, value in kwargs.items():\n",
    "        print('key', key, 'value', value)\n",
    "        \n",
    "test2(a =1, b=2, c=3)        "
   ]
  },
  {
   "cell_type": "markdown",
   "metadata": {},
   "source": [
    "* 가변길이 함수의 대표적인 예\n",
    "    **문자열 포맷 함수**\n",
    "- 여러가지 값과 포맷을 이용하여 문자열을 정의할 수 있는 함수\n",
    "- {} placeholder 를 문자열 내에 위치 시킨 후, 해당 위치에 format함수로 전달된 값으로 대체 하여 문자열 생성\n",
    "- 포맷 구성은 다음 링크 참조 https://pryformat.info/"
   ]
  },
  {
   "cell_type": "code",
   "execution_count": 35,
   "metadata": {},
   "outputs": [
    {
     "ename": "SyntaxError",
     "evalue": "invalid syntax (<ipython-input-35-434f51379a28>, line 1)",
     "output_type": "error",
     "traceback": [
      "\u001b[1;36m  File \u001b[1;32m\"<ipython-input-35-434f51379a28>\"\u001b[1;36m, line \u001b[1;32m1\u001b[0m\n\u001b[1;33m    a = '오늘 온도: {today_temp}도, 강수확률은: {today_prob}% 내일온도: {tomorrow_temp}도',format(tomorrow_temp=23, today_prob=40, today_ temp=40)\u001b[0m\n\u001b[1;37m                                                                                                                              ^\u001b[0m\n\u001b[1;31mSyntaxError\u001b[0m\u001b[1;31m:\u001b[0m invalid syntax\n"
     ]
    }
   ],
   "source": [
    "a = '오늘 온도: {today_temp}도, 강수확률은: {today_prob}% 내일온도: {tomorrow_temp}도',\n",
    "    format(tomorrow_temp=23, today_prob=40, today_ temp=40)\n",
    "print(a)"
   ]
  },
  {
   "cell_type": "code",
   "execution_count": null,
   "metadata": {},
   "outputs": [],
   "source": []
  },
  {
   "cell_type": "code",
   "execution_count": null,
   "metadata": {},
   "outputs": [],
   "source": []
  },
  {
   "cell_type": "code",
   "execution_count": null,
   "metadata": {},
   "outputs": [],
   "source": []
  }
 ],
 "metadata": {
  "kernelspec": {
   "display_name": "Python 3",
   "language": "python",
   "name": "python3"
  },
  "language_info": {
   "codemirror_mode": {
    "name": "ipython",
    "version": 3
   },
   "file_extension": ".py",
   "mimetype": "text/x-python",
   "name": "python",
   "nbconvert_exporter": "python",
   "pygments_lexer": "ipython3",
   "version": "3.7.6"
  }
 },
 "nbformat": 4,
 "nbformat_minor": 4
}
