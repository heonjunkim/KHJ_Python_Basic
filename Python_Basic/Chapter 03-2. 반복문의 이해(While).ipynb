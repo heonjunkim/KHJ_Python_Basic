{
 "cells": [
  {
   "cell_type": "markdown",
   "metadata": {},
   "source": [
    "## 학습목표\n",
    " - 반복문의 이해 및 활용(While)"
   ]
  },
  {
   "cell_type": "markdown",
   "metadata": {},
   "source": [
    "### loop (반복문)\n",
    "+ 반복적인 작업을 가능하게 해주는 도구\n",
    "+ 특정 조건을 만족하는 경우 수행할 수 있음(while)\n",
    "+ 리스트, 문자열, 튜플 등 컬렉션 타입의 아이템을 하나씩 순회하면서 사용 가능(for)\n",
    "+ 코드 작업에서, 가장 많이 사용하는 구문 중 하나\n",
    "+ 주의할점 : whille을 사용할 경우, 반복을 멈추게 하는 장치가 필요\n",
    "    + 그렇지 않으면 셀이 무한히 수행되며, jupyter notebook의 재부팅이 필요\n"
   ]
  },
  {
   "cell_type": "markdown",
   "metadata": {},
   "source": [
    "#### While 키워드\n",
    "- while 뒤에 조건이 True일 경우, while 코드 블록을 계속 수행\n",
    "- while 코드 블록\n",
    "    - if와 마찬가지로 while문 아래의 들여쓰기로 작성 된 부분을 의미\n",
    "- 조건이 False가 되면 블록 수행을 멈추고 이후 코드를 실행    "
   ]
  },
  {
   "cell_type": "markdown",
   "metadata": {},
   "source": [
    "#### while 키워드 이용하여 리스트의 아이템 출력하기"
   ]
  },
  {
   "cell_type": "code",
   "execution_count": 1,
   "metadata": {},
   "outputs": [
    {
     "name": "stdout",
     "output_type": "stream",
     "text": [
      "value 1  , index: 0\n",
      "value 10  , index: 1\n",
      "value 9  , index: 2\n",
      "value 24  , index: 3\n",
      "hahah\n"
     ]
    }
   ],
   "source": [
    "a = [1, 10, 9, 24]\n",
    "\n",
    "i = 0 #인덱스\n",
    "while i < len(a):\n",
    "    print('value' , a[i], ' , index:' , i)\n",
    "    i += 1   \n",
    "    \n",
    "print('hahah')    "
   ]
  },
  {
   "cell_type": "markdown",
   "metadata": {},
   "source": [
    "#### while 키워드 이용하여 리스트의 아이템 출력하기\n",
    "- 조건문과 함께 사용하기"
   ]
  },
  {
   "cell_type": "code",
   "execution_count": 6,
   "metadata": {},
   "outputs": [
    {
     "name": "stdout",
     "output_type": "stream",
     "text": [
      "24\n",
      "12.0\n",
      "25\n",
      "12.5\n",
      "26\n",
      "13.0\n"
     ]
    }
   ],
   "source": [
    "a = [1, 10, 9, 24, 25, 26]\n",
    "\n",
    "i = 0 # 인덱스\n",
    "while i <len(a):\n",
    "    if a[i] > 20: # 20보다 큰 경우만 출력하기\n",
    "        print(a[i])\n",
    "        print(a[i]/2)\n",
    "    i += 1    "
   ]
  },
  {
   "cell_type": "code",
   "execution_count": null,
   "metadata": {},
   "outputs": [],
   "source": []
  },
  {
   "cell_type": "markdown",
   "metadata": {},
   "source": [
    "#### 무한루프\n",
    "- while의 경우 종료가 되지 않도록 코드를 작성하면 블록에서 빠져나올수 없음"
   ]
  },
  {
   "cell_type": "code",
   "execution_count": null,
   "metadata": {},
   "outputs": [],
   "source": [
    "while True:\n",
    "    print('haha')"
   ]
  },
  {
   "cell_type": "markdown",
   "metadata": {},
   "source": [
    "#### break\n",
    "+ loop을 중단할 때 사용\n",
    "+ 보통 조건분 안에서 수행되며, 조건을 만족하는 경우 loop을 탈출하기 위해 사용\n",
    "+ loop을 중단 하는 경우, while 이후의 코드를 수행"
   ]
  },
  {
   "cell_type": "code",
   "execution_count": null,
   "metadata": {},
   "outputs": [],
   "source": [
    "a = [1, 10, 9, 24, 25, 26]\n",
    "i =0\n",
    "while i < len(a):\n",
    "    if a[i] > 20:\n",
    "        break\n",
    "        \n",
    "        print(a[i])\n",
    "        \n",
    "        i += 1\n",
    "        \n",
    "print('hahah')        "
   ]
  },
  {
   "cell_type": "code",
   "execution_count": null,
   "metadata": {},
   "outputs": [],
   "source": [
    "# 가정 crawl() > 호출 > return(수집한 데이터)(주의: 실행안됨!!!)\n",
    "# 수집해야하는 데이터 총3개(a,b,c)\n",
    "# 무한반복\n",
    "while True:\n",
    "    data = crawl() # crawl()은 return으로 수집하려는 데이터를 반환\n",
    "    if data == None:\n",
    "        break\n",
    "    print(data)"
   ]
  },
  {
   "cell_type": "markdown",
   "metadata": {},
   "source": [
    "#### continue\n",
    "+ break 처럼 반복을 중단하여 빠져나오지 않고, 다시 while조건으로 점프함\n",
    "+ 특정한 경우에는 코드를 수행하지 않고 다음으로 건너 뛰기 위해 사용"
   ]
  },
  {
   "cell_type": "code",
   "execution_count": null,
   "metadata": {},
   "outputs": [],
   "source": [
    "a = 7\n",
    "    while a > 0:\n",
    "    a -= 1\n",
    "    if a == 5:\n",
    "    continue\n",
    "    print(a)"
   ]
  },
  {
   "cell_type": "markdown",
   "metadata": {},
   "source": [
    "### 1~ 100까지 더하기"
   ]
  },
  {
   "cell_type": "code",
   "execution_count": null,
   "metadata": {},
   "outputs": [],
   "source": [
    "num = 1\n",
    "_sum = 0\n",
    "\n",
    "while num <= 10:\n",
    "    _sum += num\n",
    "    num += 1\n",
    "    print(_sum, num)\n",
    "\n",
    "print(_sum)    "
   ]
  }
 ],
 "metadata": {
  "kernelspec": {
   "display_name": "Python 3",
   "language": "python",
   "name": "python3"
  },
  "language_info": {
   "codemirror_mode": {
    "name": "ipython",
    "version": 3
   },
   "file_extension": ".py",
   "mimetype": "text/x-python",
   "name": "python",
   "nbconvert_exporter": "python",
   "pygments_lexer": "ipython3",
   "version": "3.7.6"
  }
 },
 "nbformat": 4,
 "nbformat_minor": 4
}
